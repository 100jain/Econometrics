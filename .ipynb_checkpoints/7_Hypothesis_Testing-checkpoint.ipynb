{
 "cells": [
  {
   "cell_type": "code",
   "execution_count": 6,
   "metadata": {},
   "outputs": [],
   "source": [
    "import statsmodels.api as sm\n",
    "import numpy as np\n",
    "import matplotlib.pyplot as plt\n",
    "import pandas as pd\n",
    "from scipy.stats import norm"
   ]
  },
  {
   "cell_type": "markdown",
   "metadata": {},
   "source": [
    "**First Example**\n",
    "\n",
    "Data: 1018 people were surveyed. 56% of those who were surveyed believe that their teenager’s lack of sleep is caused due to electronics and social media.\n",
    "\n",
    "In previous years, 52% of parents believed that electronics and social media was the cause of their teenager’s lack of sleep. Do more parents today believe that their teenager’s lack of sleep is caused due to electronics and social media?\n",
    "\n",
    "Null Hypothesis: mu = 0.52\n",
    "Alternative Hypthosis: mu > 0.52 (note that this is a one-sided test)\n",
    "\n",
    "alpha = 5%"
   ]
  },
  {
   "cell_type": "code",
   "execution_count": 22,
   "metadata": {},
   "outputs": [
    {
     "name": "stdout",
     "output_type": "stream",
     "text": [
      "1.2762444906835064 1.6448536269514722\n"
     ]
    }
   ],
   "source": [
    "mu = 0.52\n",
    "X_hat = 0.56\n",
    "sigma=1\n",
    "number=1018\n",
    "critical_value = norm.ppf(.95)\n",
    "\n",
    "z_score = (X_hat - mu)/(1/np.sqrt(number))\n",
    "print(z_score, critical_value)"
   ]
  },
  {
   "cell_type": "code",
   "execution_count": 24,
   "metadata": {},
   "outputs": [
    {
     "name": "stdout",
     "output_type": "stream",
     "text": [
      "0.17411669941474103\n"
     ]
    }
   ],
   "source": [
    "n1 = 247\n",
    "p1 = .368\n",
    "\n",
    "n2 = 308\n",
    "p2 = .389\n",
    "\n",
    "t_value = (p2-p1)/(1/np.sqrt(n1) + 1/np.sqrt(n2))\n",
    "\n",
    "print(t_value)"
   ]
  }
 ],
 "metadata": {
  "kernelspec": {
   "display_name": "Python 3",
   "language": "python",
   "name": "python3"
  },
  "language_info": {
   "codemirror_mode": {
    "name": "ipython",
    "version": 3
   },
   "file_extension": ".py",
   "mimetype": "text/x-python",
   "name": "python",
   "nbconvert_exporter": "python",
   "pygments_lexer": "ipython3",
   "version": "3.7.6"
  },
  "toc": {
   "base_numbering": 1,
   "nav_menu": {},
   "number_sections": true,
   "sideBar": true,
   "skip_h1_title": false,
   "title_cell": "Table of Contents",
   "title_sidebar": "Contents",
   "toc_cell": false,
   "toc_position": {},
   "toc_section_display": true,
   "toc_window_display": true
  }
 },
 "nbformat": 4,
 "nbformat_minor": 4
}
